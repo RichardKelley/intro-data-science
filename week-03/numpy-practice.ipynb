{
 "metadata": {
  "name": ""
 },
 "nbformat": 3,
 "nbformat_minor": 0,
 "worksheets": [
  {
   "cells": [
    {
     "cell_type": "code",
     "collapsed": false,
     "input": [
      "def f1(x,y):\n",
      "    result = []\n",
      "    if len(x) != len(y):\n",
      "        raise ValueError(\"Vectors must be same length\")\n",
      "    for i, v in enumerate(x):\n",
      "        result.append(x[i] + y[i])\n",
      "    return result"
     ],
     "language": "python",
     "metadata": {},
     "outputs": [],
     "prompt_number": 55
    },
    {
     "cell_type": "code",
     "collapsed": false,
     "input": [
      "def f2(a,x):\n",
      "    result = []\n",
      "    for i,v in enumerate(x):\n",
      "        result.append(a * v)\n",
      "    return result"
     ],
     "language": "python",
     "metadata": {},
     "outputs": [],
     "prompt_number": 56
    },
    {
     "cell_type": "code",
     "collapsed": false,
     "input": [
      "def f3(x):\n",
      "    result = []\n",
      "    norm = 0.0\n",
      "    for v in x:\n",
      "        norm += v*v\n",
      "    norm = math.sqrt(norm)\n",
      "    for i,v in enumerate(x):\n",
      "        result.append( x[i]/norm )\n",
      "    return result"
     ],
     "language": "python",
     "metadata": {},
     "outputs": [],
     "prompt_number": 57
    },
    {
     "cell_type": "code",
     "collapsed": false,
     "input": [
      "def f4(x):\n",
      "    norm = 0.0\n",
      "    for v in x:\n",
      "        norm += v*v\n",
      "    norm = math.sqrt(norm)\n",
      "    return norm"
     ],
     "language": "python",
     "metadata": {},
     "outputs": [],
     "prompt_number": 58
    },
    {
     "cell_type": "code",
     "collapsed": false,
     "input": [
      "def f5(x):\n",
      "    sigm = lambda x: (1.0 / (1.0 + math.exp(-x)))\n",
      "    result = []\n",
      "    for v in x:\n",
      "        result.append(sigm(v))\n",
      "    return result"
     ],
     "language": "python",
     "metadata": {},
     "outputs": [],
     "prompt_number": 59
    },
    {
     "cell_type": "code",
     "collapsed": false,
     "input": [
      "def f6(m, nrows, ncols):\n",
      "    for i in range(nrows):\n",
      "        for j in range(ncols):\n",
      "            if m[ncols * i + j] != m[ncols * j + i]:\n",
      "                return False\n",
      "    return True"
     ],
     "language": "python",
     "metadata": {},
     "outputs": [],
     "prompt_number": 60
    },
    {
     "cell_type": "code",
     "collapsed": false,
     "input": [
      "def f7(x,y):\n",
      "    s = 0.0\n",
      "    if len(x) != len(y):\n",
      "        raise ValueError(\"lengths differ.\")\n",
      "    for i,v in enumerate(x):\n",
      "        s += x[i] * y[i]\n",
      "    return s"
     ],
     "language": "python",
     "metadata": {},
     "outputs": [],
     "prompt_number": 61
    },
    {
     "cell_type": "code",
     "collapsed": false,
     "input": [
      "def f8(m, x, nrows, ncols):\n",
      "    result = []\n",
      "    if len(x) != ncols:\n",
      "        raise ValueError(\"m and x have incompatible sizes.\")\n",
      "    for i, v in enumerate(x):\n",
      "        result.append(f7(m[i * ncols : (i+1)*ncols], x))\n",
      "    return result"
     ],
     "language": "python",
     "metadata": {},
     "outputs": [],
     "prompt_number": 62
    },
    {
     "cell_type": "code",
     "collapsed": false,
     "input": [
      "import random\n",
      "def f9(length):\n",
      "    result = []\n",
      "    if length <= 0:\n",
      "        raise ValueError(\"Need a positive argument.\")\n",
      "    for i in range(length):\n",
      "        result.append(random.gauss(0, 0.1))\n",
      "    return result"
     ],
     "language": "python",
     "metadata": {},
     "outputs": [],
     "prompt_number": 63
    },
    {
     "cell_type": "code",
     "collapsed": false,
     "input": [
      "def f10(x):\n",
      "    if len(x) == 0:\n",
      "        raise ValueError(\"need a nonempty x.\")\n",
      "    minval = x[0]\n",
      "    for v in x:\n",
      "        if v <= minval:\n",
      "            minval = v\n",
      "    return minval"
     ],
     "language": "python",
     "metadata": {},
     "outputs": [],
     "prompt_number": 64
    },
    {
     "cell_type": "code",
     "collapsed": false,
     "input": [
      "def f11(x):\n",
      "    if len(x) == 0:\n",
      "        raise ValueError(\"need nonempty x.\")\n",
      "    maxval = x[0]\n",
      "    for v in x:\n",
      "        if v >= maxval:\n",
      "            maxval = v\n",
      "    return maxval"
     ],
     "language": "python",
     "metadata": {},
     "outputs": [],
     "prompt_number": 65
    }
   ],
   "metadata": {}
  }
 ]
}