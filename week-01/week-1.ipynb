{
 "metadata": {
  "name": "week-1"
 },
 "nbformat": 3,
 "nbformat_minor": 0,
 "worksheets": [
  {
   "cells": [
    {
     "cell_type": "heading",
     "level": 1,
     "metadata": {},
     "source": [
      "Week 1 - Files to Words"
     ]
    },
    {
     "cell_type": "markdown",
     "metadata": {},
     "source": [
      "Here's your work for the week. When you finish, let Richard know that you're done and walk him through your solution. He'll check you off as having finished the week's work."
     ]
    },
    {
     "cell_type": "heading",
     "level": 2,
     "metadata": {},
     "source": [
      "Strings to Words"
     ]
    },
    {
     "cell_type": "markdown",
     "metadata": {},
     "source": [
      "Let's start with something trivial. Write a function to convert a string to a list of words."
     ]
    },
    {
     "cell_type": "code",
     "collapsed": false,
     "input": [
      "# your code here"
     ],
     "language": "python",
     "metadata": {},
     "outputs": []
    },
    {
     "cell_type": "heading",
     "level": 2,
     "metadata": {},
     "source": [
      "Converting Files to Lists of Words"
     ]
    },
    {
     "cell_type": "markdown",
     "metadata": {},
     "source": [
      "Slightly harder, but not really. Write a function to open a file and convert it to a list of words."
     ]
    },
    {
     "cell_type": "code",
     "collapsed": false,
     "input": [
      "# your code here"
     ],
     "language": "python",
     "metadata": {},
     "outputs": []
    },
    {
     "cell_type": "heading",
     "level": 2,
     "metadata": {},
     "source": [
      "`For` loops under the hood"
     ]
    },
    {
     "cell_type": "markdown",
     "metadata": {},
     "source": [
      "Now a real problem. Consider the following code. For loops in Python seem to have a bit of magic behind them, but their effectiveness is actually a consequence of a simple set of rules. Our goal for this problem is to understand how `for` works under the hood:"
     ]
    },
    {
     "cell_type": "code",
     "collapsed": false,
     "input": [
      "words = ['this', 'is', 'a', 'sentence.']\n",
      "for word in words:\n",
      "    print word"
     ],
     "language": "python",
     "metadata": {},
     "outputs": [
      {
       "output_type": "stream",
       "stream": "stdout",
       "text": [
        "this\n",
        "is\n",
        "a\n",
        "sentence.\n"
       ]
      }
     ],
     "prompt_number": 1
    },
    {
     "cell_type": "markdown",
     "metadata": {},
     "source": [
      "First, read about iterators and iterables in Python. Some resources that you might find useful:\n",
      "\n",
      "* [The Python tutorial explains iterators very nicely.](http://docs.python.org/2/tutorial/classes.html#iterators)\n",
      "* [The functional programming howto has a good discussion of iterators](http://docs.python.org/2.7/howto/functional.html#iterators)\n",
      "\n",
      "Start with these. The three things you need to understand are the builtin function `iter`, the `next` method for iterators, and the `StopIteration` exception. Once you get these, you can write your own objects that can be looped over using `for`.\n",
      "\n",
      "Write a class that accepts a string as the sole input to its constructor, and whose objects can be iterated over to process the string, one word at a time. For inspiration, take a look at the `Reverse` example in the tutorial."
     ]
    },
    {
     "cell_type": "code",
     "collapsed": false,
     "input": [
      "# your code here"
     ],
     "language": "python",
     "metadata": {},
     "outputs": [],
     "prompt_number": 2
    },
    {
     "cell_type": "heading",
     "level": 2,
     "metadata": {},
     "source": [
      "Generator Functions and Yield Statements"
     ]
    },
    {
     "cell_type": "markdown",
     "metadata": {},
     "source": [
      "The problem with all of the code you've written so far is that it requires everything to be in memory. If I gave you all of Wikipedia in a file then the code you wrote for the second problem would fall over. Because we want to be able to process more data than can reside in memory, we need a better way to handle large objects. In Python, that way is with generator functions and the `yield` statement. \n",
      "\n",
      "Start by reading about generator functions in the docs linked above. If you don't feel like scrolling, here are the sections that you should check out:\n",
      "\n",
      "* [The coverage of generator functions in the Python tutorial](http://docs.python.org/2/tutorial/classes.html#generators)\n",
      "* [Generators in the functional programming howto](http://docs.python.org/2.7/howto/functional.html#generators)\n",
      "\n",
      "The important thing to understand is how `yield` behaves. To start getting a handle on this, try rewriting the first problem using generators. That is, write a function that accepts a string and returns a generator object that returns each word in turn. So you should be able to use this function after the `in` part of a `for` loop."
     ]
    },
    {
     "cell_type": "code",
     "collapsed": false,
     "input": [
      "# your code here"
     ],
     "language": "python",
     "metadata": {},
     "outputs": [],
     "prompt_number": 3
    },
    {
     "cell_type": "heading",
     "level": 2,
     "metadata": {},
     "source": [
      "A Generator for Words in Files"
     ]
    },
    {
     "cell_type": "raw",
     "metadata": {},
     "source": [
      "The real power of generators comes from their laziness and memory performance. Rewrite the second problem to use generators to turn a file into a stream of words. So you should be able to iterate over the generator returned by the function, processing a word at a time. A good way to show that this works is to write a function that counts all the words in a file."
     ]
    },
    {
     "cell_type": "code",
     "collapsed": false,
     "input": [
      "# your code here"
     ],
     "language": "python",
     "metadata": {},
     "outputs": [],
     "prompt_number": 4
    },
    {
     "cell_type": "heading",
     "level": 2,
     "metadata": {},
     "source": [
      "Directory Processing"
     ]
    },
    {
     "cell_type": "markdown",
     "metadata": {},
     "source": [
      "Sometimes we have a bunch of text files in a directory, and we want to process all of them. Write a function turns a set of files in a directory into a stream of all the words in that directory. Bonus points if you make it recursive so that it can handle directories in directories, but all you *need* to do is write a function that turns a set of files in a single directory into a stream of words.\n",
      "\n",
      "You may find it helpful to look at the documentation for the `os.walk` function, [here](http://docs.python.org/2/library/os.html#os.walk)"
     ]
    },
    {
     "cell_type": "code",
     "collapsed": false,
     "input": [
      "# your code here."
     ],
     "language": "python",
     "metadata": {},
     "outputs": []
    },
    {
     "cell_type": "markdown",
     "metadata": {},
     "source": [
      "You might confirm that this code has better memory performance than the approaches that don't use generators. How would you do that?"
     ]
    }
   ],
   "metadata": {}
  }
 ]
}