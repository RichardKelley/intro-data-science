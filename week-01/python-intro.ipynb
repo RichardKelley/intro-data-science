{
 "metadata": {
  "name": "python-intro"
 },
 "nbformat": 3,
 "nbformat_minor": 0,
 "worksheets": [
  {
   "cells": [
    {
     "cell_type": "heading",
     "level": 1,
     "metadata": {},
     "source": [
      "Quick Intro to Python"
     ]
    },
    {
     "cell_type": "markdown",
     "metadata": {},
     "source": [
      "The goal of this notebook is to introduce you to the Python programming language. I assume that you already know at least one other language such as C++ or Java. This is a very quick intro to the language - I leave a lot out. If you'd like something more comprehensive, the best resource is probably the official Python tutorial:\n",
      "\n",
      "[http://docs.python.org/2/tutorial/](http://docs.python.org/2/tutorial/)"
     ]
    },
    {
     "cell_type": "heading",
     "level": 2,
     "metadata": {},
     "source": [
      "Some Basics"
     ]
    },
    {
     "cell_type": "markdown",
     "metadata": {},
     "source": [
      "Python has numbers as you would expect: integers, finite-precision floating point numbers, etc. It also has boolean values `True` and `False` - notice the capitalization there. We can do arithmetic with numbers, and Python is very flexible about what it will allow, performing type conversions (mostly) as needed:"
     ]
    },
    {
     "cell_type": "code",
     "collapsed": false,
     "input": [
      "1 + 1"
     ],
     "language": "python",
     "metadata": {},
     "outputs": [
      {
       "output_type": "pyout",
       "prompt_number": 21,
       "text": [
        "2"
       ]
      }
     ],
     "prompt_number": 21
    },
    {
     "cell_type": "code",
     "collapsed": false,
     "input": [
      "1 + 1.5"
     ],
     "language": "python",
     "metadata": {},
     "outputs": [
      {
       "output_type": "pyout",
       "prompt_number": 22,
       "text": [
        "2.5"
       ]
      }
     ],
     "prompt_number": 22
    },
    {
     "cell_type": "code",
     "collapsed": false,
     "input": [
      "6 + True"
     ],
     "language": "python",
     "metadata": {},
     "outputs": [
      {
       "output_type": "pyout",
       "prompt_number": 24,
       "text": [
        "7"
       ]
      }
     ],
     "prompt_number": 24
    },
    {
     "cell_type": "markdown",
     "metadata": {},
     "source": [
      "That last example shows that sometimes those conversions aren't particularly sensible..."
     ]
    },
    {
     "cell_type": "heading",
     "level": 2,
     "metadata": {},
     "source": [
      "Built-In Data Structures"
     ]
    },
    {
     "cell_type": "markdown",
     "metadata": {},
     "source": [
      "Once you get past basics like numbers and booleans, there are a number of more complicated objects that Python provides for free. We're going to look at strings, lists, and dictionaries."
     ]
    },
    {
     "cell_type": "heading",
     "level": 3,
     "metadata": {},
     "source": [
      "Strings"
     ]
    },
    {
     "cell_type": "markdown",
     "metadata": {},
     "source": [
      "Python has a high-level view of strings. We can create a string by enclosing a sequence of characters in either single quotes or double quotes:"
     ]
    },
    {
     "cell_type": "code",
     "collapsed": false,
     "input": [
      "a_string = 'This is a string.'\n",
      "another_string = \"This is another string.\""
     ],
     "language": "python",
     "metadata": {},
     "outputs": [],
     "prompt_number": 6
    },
    {
     "cell_type": "markdown",
     "metadata": {},
     "source": [
      "We can access the characters of a string using the following notation:"
     ]
    },
    {
     "cell_type": "code",
     "collapsed": false,
     "input": [
      "print a_string[0]"
     ],
     "language": "python",
     "metadata": {},
     "outputs": [
      {
       "output_type": "stream",
       "stream": "stdout",
       "text": [
        "T\n"
       ]
      }
     ],
     "prompt_number": 7
    },
    {
     "cell_type": "markdown",
     "metadata": {},
     "source": [
      "We _cannot_ write to strings:"
     ]
    },
    {
     "cell_type": "code",
     "collapsed": false,
     "input": [
      "a_string[0] = 'a'"
     ],
     "language": "python",
     "metadata": {},
     "outputs": [
      {
       "ename": "TypeError",
       "evalue": "'str' object does not support item assignment",
       "output_type": "pyerr",
       "traceback": [
        "\u001b[0;31m---------------------------------------------------------------------------\u001b[0m\n\u001b[0;31mTypeError\u001b[0m                                 Traceback (most recent call last)",
        "\u001b[0;32m<ipython-input-8-2e8494f50f19>\u001b[0m in \u001b[0;36m<module>\u001b[0;34m()\u001b[0m\n\u001b[0;32m----> 1\u001b[0;31m \u001b[0ma_string\u001b[0m\u001b[0;34m[\u001b[0m\u001b[0;36m0\u001b[0m\u001b[0;34m]\u001b[0m \u001b[0;34m=\u001b[0m \u001b[0;34m'a'\u001b[0m\u001b[0;34m\u001b[0m\u001b[0m\n\u001b[0m",
        "\u001b[0;31mTypeError\u001b[0m: 'str' object does not support item assignment"
       ]
      }
     ],
     "prompt_number": 8
    },
    {
     "cell_type": "markdown",
     "metadata": {},
     "source": [
      "Even though we cannot write to a string we have already created, we can create new strings, for example via concatenation:"
     ]
    },
    {
     "cell_type": "code",
     "collapsed": false,
     "input": [
      "repetition = a_string + a_string\n",
      "print repetition"
     ],
     "language": "python",
     "metadata": {},
     "outputs": [
      {
       "output_type": "stream",
       "stream": "stdout",
       "text": [
        "This is a string.This is a string.\n"
       ]
      }
     ],
     "prompt_number": 9
    },
    {
     "cell_type": "markdown",
     "metadata": {},
     "source": [
      "We can also operate on strings via multiplication by integers:"
     ]
    },
    {
     "cell_type": "code",
     "collapsed": false,
     "input": [
      "print a_string * 2"
     ],
     "language": "python",
     "metadata": {},
     "outputs": [
      {
       "output_type": "stream",
       "stream": "stdout",
       "text": [
        "This is a string.This is a string.\n"
       ]
      }
     ],
     "prompt_number": 14
    },
    {
     "cell_type": "markdown",
     "metadata": {},
     "source": [
      "Strings are normally subject to Python's rules for newlines and whitespace, so with regular strings it's tricky to deal with large strings. To \"pause\" the formatting rules there's another syntax for string literals: instead of enclosing the string in a single pair of quotes, you use triple quotes:"
     ]
    },
    {
     "cell_type": "code",
     "collapsed": false,
     "input": [
      "a_long_string = \"\"\"It was the best of times, it was the worst of times, \n",
      "it was the age of wisdom, it was the age of foolishness, \n",
      "it was the epoch of belief, it was the epoch of incredulity, \n",
      "it was the season of Light, it was the season of Darkness, \n",
      "it was the spring of hope, it was the winter of despair, we had \n",
      "everything before us, we had nothing before us, we were all \n",
      "going direct to Heaven, we were all going direct the other way\"\"\"\n",
      "\n",
      "print a_long_string"
     ],
     "language": "python",
     "metadata": {},
     "outputs": [
      {
       "output_type": "stream",
       "stream": "stdout",
       "text": [
        "It was the best of times, it was the worst of times, \n",
        "it was the age of wisdom, it was the age of foolishness, \n",
        "it was the epoch of belief, it was the epoch of incredulity, \n",
        "it was the season of Light, it was the season of Darkness, \n",
        "it was the spring of hope, it was the winter of despair, we had \n",
        "everything before us, we had nothing before us, we were all \n",
        "going direct to Heaven, we were all going direct the other way\n"
       ]
      }
     ],
     "prompt_number": 20
    },
    {
     "cell_type": "markdown",
     "metadata": {},
     "source": [
      "Notice that the new lines in the string literal are preserved when we print the string."
     ]
    },
    {
     "cell_type": "heading",
     "level": 4,
     "metadata": {},
     "source": [
      "More detail"
     ]
    },
    {
     "cell_type": "markdown",
     "metadata": {},
     "source": [
      "There are lots of interesting functions operating on strings. You can find them here:\n",
      "\n",
      "[String Services](http://docs.python.org/2/library/strings.html)"
     ]
    },
    {
     "cell_type": "heading",
     "level": 3,
     "metadata": {},
     "source": [
      "Lists"
     ]
    },
    {
     "cell_type": "markdown",
     "metadata": {},
     "source": [
      "In languages like C, C++, Java, and C# have primitive arrays, which are (more or less) a thin abstraction around the computer's memory. Python, on the other hand, has a much higher level notion of a sequence of values: the list. Here's an example of a list:"
     ]
    },
    {
     "cell_type": "code",
     "collapsed": false,
     "input": [
      "short_list = [1,2,3]"
     ],
     "language": "python",
     "metadata": {},
     "outputs": [],
     "prompt_number": 1
    },
    {
     "cell_type": "markdown",
     "metadata": {},
     "source": [
      "In this example, `[1,2,3]` is a list of three elements. In general, a list literal can be defined by enclosing a comma-separated sequence of values in square brackets."
     ]
    },
    {
     "cell_type": "markdown",
     "metadata": {},
     "source": [
      "Once we have a list, we can access its elements just like in C, etc..."
     ]
    },
    {
     "cell_type": "code",
     "collapsed": false,
     "input": [
      "print short_list[0]"
     ],
     "language": "python",
     "metadata": {},
     "outputs": [
      {
       "output_type": "stream",
       "stream": "stdout",
       "text": [
        "1\n"
       ]
      }
     ],
     "prompt_number": 2
    },
    {
     "cell_type": "markdown",
     "metadata": {},
     "source": [
      "Notice that lists are indexed starting at zero. We can write to list entries:"
     ]
    },
    {
     "cell_type": "code",
     "collapsed": false,
     "input": [
      "short_list[0] = 4\n",
      "print short_list"
     ],
     "language": "python",
     "metadata": {},
     "outputs": [
      {
       "output_type": "stream",
       "stream": "stdout",
       "text": [
        "[4, 2, 3]\n"
       ]
      }
     ],
     "prompt_number": 3
    },
    {
     "cell_type": "markdown",
     "metadata": {},
     "source": [
      "It's frequently useful to convert a string of words into a list of strings. This is insanely easy in Python:"
     ]
    },
    {
     "cell_type": "code",
     "collapsed": false,
     "input": [
      "sentence = \"The quick brown fox jumped over the lazy dog.\"\n",
      "words = sentence.split()\n",
      "print words"
     ],
     "language": "python",
     "metadata": {},
     "outputs": [
      {
       "output_type": "stream",
       "stream": "stdout",
       "text": [
        "['The', 'quick', 'brown', 'fox', 'jumped', 'over', 'the', 'lazy', 'dog.']\n"
       ]
      }
     ],
     "prompt_number": 12
    },
    {
     "cell_type": "heading",
     "level": 3,
     "metadata": {},
     "source": [
      "Dictionaries"
     ]
    },
    {
     "cell_type": "markdown",
     "metadata": {},
     "source": [
      "If you think of a list as a collection indexed by a sequence of integers, then a dictionary can be thought of as a collection index by an (almost) arbitrary collection of objects. For example, we can use a dictionary to collect a set of (string, integer) pairs:"
     ]
    },
    {
     "cell_type": "code",
     "collapsed": false,
     "input": [
      "# the dog bit the cat\n",
      "word_counts = {'the' : 2, 'dog' : 1, 'cat' : 1, 'bit' : 1}\n",
      "print word_counts['the']"
     ],
     "language": "python",
     "metadata": {},
     "outputs": [
      {
       "output_type": "stream",
       "stream": "stdout",
       "text": [
        "2\n"
       ]
      }
     ],
     "prompt_number": 32
    },
    {
     "cell_type": "markdown",
     "metadata": {},
     "source": [
      "The syntax for a dictionary literal uses `{}` in stead of lists' `[]`, and key-value pairs are separated by a `:`. There is one restriction on keys that you should keep in mind: keys _must_ be immutable. It's always safe to use strings or numbers as keys, but arbitrary objects are usually not fair game."
     ]
    },
    {
     "cell_type": "heading",
     "level": 2,
     "metadata": {},
     "source": [
      "Control Flow"
     ]
    },
    {
     "cell_type": "markdown",
     "metadata": {},
     "source": [
      "Python has all of the control constructs that you would expect in a programming language: conditionals, loops, etc. The major difference between Python and a language like C++ is that in Python, whitespace is significant. This just means that you need to be consistent when you indent, and in practice isn't really a big deal. These are all statements, not expressions - they don't yield values the way you might wish they would."
     ]
    },
    {
     "cell_type": "heading",
     "level": 3,
     "metadata": {},
     "source": [
      "Conditionals"
     ]
    },
    {
     "cell_type": "markdown",
     "metadata": {},
     "source": [
      "The two things to keep in mind with conditionals are the basic syntax and the keyword for the \"else if\" construct that you know and love from other languages. Here's an example of the basic `if-else` construct:"
     ]
    },
    {
     "cell_type": "code",
     "collapsed": false,
     "input": [
      "if 5 == 1:\n",
      "    print \"Math is broken...\"\n",
      "else:\n",
      "    print \"All is right with the world.\""
     ],
     "language": "python",
     "metadata": {},
     "outputs": [
      {
       "output_type": "stream",
       "stream": "stdout",
       "text": [
        "All is right with the world.\n"
       ]
      }
     ],
     "prompt_number": 35
    },
    {
     "cell_type": "markdown",
     "metadata": {},
     "source": [
      "You don't wrap the test in parenthesis, and you end the line containing the test with a `:`. Otherwise there aren't really any surprises. Here's how you would do multiple branches, each with a test:"
     ]
    },
    {
     "cell_type": "code",
     "collapsed": false,
     "input": [
      "x = 6\n",
      "if 0 < x < 2:\n",
      "    print \"x is small.\"\n",
      "elif 2 < x < 5:\n",
      "    print \"x is a bit bigger.\"\n",
      "else:\n",
      "    print \"x is large.\""
     ],
     "language": "python",
     "metadata": {},
     "outputs": [
      {
       "output_type": "stream",
       "stream": "stdout",
       "text": [
        "x is large.\n"
       ]
      }
     ],
     "prompt_number": 2
    },
    {
     "cell_type": "markdown",
     "metadata": {},
     "source": [
      "So the keyword for \"else if\" is `elif`. Also notice that `0 < x < 2` is actually valid Python, and in constract with C and C++ actually does the right thing. You can have as many `elif` branches as you need. Since there is no switch statement in Python, you end up using conditionals with many `elif`s to achieve the same effect."
     ]
    },
    {
     "cell_type": "heading",
     "level": 3,
     "metadata": {},
     "source": [
      "While Loops"
     ]
    },
    {
     "cell_type": "markdown",
     "metadata": {},
     "source": [
      "Once you're comfortable with `if` statements, `while` loops are a breeze:"
     ]
    },
    {
     "cell_type": "code",
     "collapsed": false,
     "input": [
      "i = 0\n",
      "while i < 5:\n",
      "    print \"The value of i is %s\" % i\n",
      "    i += 1\n",
      "    \n",
      "print \"The loop is done.\""
     ],
     "language": "python",
     "metadata": {},
     "outputs": [
      {
       "output_type": "stream",
       "stream": "stdout",
       "text": [
        "The value of i is 0\n",
        "The value of i is 1\n",
        "The value of i is 2\n",
        "The value of i is 3\n",
        "The value of i is 4\n",
        "The loop is done.\n"
       ]
      }
     ],
     "prompt_number": 3
    },
    {
     "cell_type": "markdown",
     "metadata": {},
     "source": [
      "One thing to note is that pre- and post-increment operators you're probably familiar with from C++ aren't available in Python:"
     ]
    },
    {
     "cell_type": "code",
     "collapsed": false,
     "input": [
      "i = 4\n",
      "i++"
     ],
     "language": "python",
     "metadata": {},
     "outputs": [
      {
       "ename": "SyntaxError",
       "evalue": "invalid syntax (<ipython-input-4-a9f63a2eb2d5>, line 2)",
       "output_type": "pyerr",
       "traceback": [
        "\u001b[0;36m  File \u001b[0;32m\"<ipython-input-4-a9f63a2eb2d5>\"\u001b[0;36m, line \u001b[0;32m2\u001b[0m\n\u001b[0;31m    i++\u001b[0m\n\u001b[0m       ^\u001b[0m\n\u001b[0;31mSyntaxError\u001b[0m\u001b[0;31m:\u001b[0m invalid syntax\n"
       ]
      }
     ],
     "prompt_number": 4
    },
    {
     "cell_type": "heading",
     "level": 3,
     "metadata": {},
     "source": [
      "For Loops"
     ]
    },
    {
     "cell_type": "markdown",
     "metadata": {},
     "source": [
      "To iterate over a list, we can use a for loop like so:"
     ]
    },
    {
     "cell_type": "code",
     "collapsed": false,
     "input": [
      "for word in words:\n",
      "    print word"
     ],
     "language": "python",
     "metadata": {},
     "outputs": [
      {
       "output_type": "stream",
       "stream": "stdout",
       "text": [
        "The\n",
        "quick\n",
        "brown\n",
        "fox\n",
        "jumped\n",
        "over\n",
        "the\n",
        "lazy\n",
        "dog.\n"
       ]
      }
     ],
     "prompt_number": 13
    },
    {
     "cell_type": "markdown",
     "metadata": {},
     "source": [
      "In the loop above, we iterate over the `words` list, binding each element of the list to the variable `word`. In the body of the loop, we can use `word` as a variable."
     ]
    },
    {
     "cell_type": "markdown",
     "metadata": {},
     "source": [
      "To get a loop like you may be used to from C (like `for(int i = 0; i < n; ++i) { ... }`), you would use the `range` function:"
     ]
    },
    {
     "cell_type": "code",
     "collapsed": false,
     "input": [
      "for i in range(5):\n",
      "    print i * i"
     ],
     "language": "python",
     "metadata": {},
     "outputs": [
      {
       "output_type": "stream",
       "stream": "stdout",
       "text": [
        "0\n",
        "1\n",
        "4\n",
        "9\n",
        "16\n"
       ]
      }
     ],
     "prompt_number": 15
    },
    {
     "cell_type": "markdown",
     "metadata": {},
     "source": [
      "Notice that the loop doesn't set `i` to 5! If you don't want to start your iteration at zero, you can pass in two parameters:"
     ]
    },
    {
     "cell_type": "code",
     "collapsed": false,
     "input": [
      "for i in range(5, 11):\n",
      "    print i * i"
     ],
     "language": "python",
     "metadata": {},
     "outputs": [
      {
       "output_type": "stream",
       "stream": "stdout",
       "text": [
        "25\n",
        "36\n",
        "49\n",
        "64\n",
        "81\n",
        "100\n"
       ]
      }
     ],
     "prompt_number": 16
    },
    {
     "cell_type": "markdown",
     "metadata": {},
     "source": [
      "You can use `for` loops to iterate over many constructs, such as dictionaries and files. The semantics of iteration will depend on the details of the object, though, so be careful when you want to iterate over something you haven't worked with before..."
     ]
    },
    {
     "cell_type": "heading",
     "level": 2,
     "metadata": {},
     "source": [
      "Functions"
     ]
    },
    {
     "cell_type": "markdown",
     "metadata": {},
     "source": [
      "Just like other languages, functions play a large role in Python. You've already seen several of them in use above."
     ]
    },
    {
     "cell_type": "heading",
     "level": 3,
     "metadata": {},
     "source": [
      "Calling Functions"
     ]
    },
    {
     "cell_type": "markdown",
     "metadata": {},
     "source": [
      "Calling a function works just the same as in Java:"
     ]
    },
    {
     "cell_type": "code",
     "collapsed": false,
     "input": [
      "len([3,2,1])"
     ],
     "language": "python",
     "metadata": {},
     "outputs": [
      {
       "output_type": "pyout",
       "prompt_number": 8,
       "text": [
        "3"
       ]
      }
     ],
     "prompt_number": 8
    },
    {
     "cell_type": "heading",
     "level": 3,
     "metadata": {},
     "source": [
      "Defining Functions"
     ]
    },
    {
     "cell_type": "markdown",
     "metadata": {},
     "source": [
      "The keyword for defining functions is `def`. Because Python is a dynamically-typed language, you don't have to worry about declaring types for function parameters, and you don't have to worry about declaring a type for return values:"
     ]
    },
    {
     "cell_type": "code",
     "collapsed": false,
     "input": [
      "def procedure():\n",
      "    print \"I'm a procedure that takes no arguments and returns no values.\""
     ],
     "language": "python",
     "metadata": {},
     "outputs": [],
     "prompt_number": 9
    },
    {
     "cell_type": "code",
     "collapsed": false,
     "input": [
      "procedure()"
     ],
     "language": "python",
     "metadata": {},
     "outputs": [
      {
       "output_type": "stream",
       "stream": "stdout",
       "text": [
        "I'm a procedure that takes no arguments and returns no values.\n"
       ]
      }
     ],
     "prompt_number": 10
    },
    {
     "cell_type": "markdown",
     "metadata": {},
     "source": [
      "To return a value from a function, you have to use the `return` keyword, just like in C or Java (but unlike Scala)."
     ]
    },
    {
     "cell_type": "code",
     "collapsed": false,
     "input": [
      "def double_input(x):\n",
      "    return 2 * x"
     ],
     "language": "python",
     "metadata": {},
     "outputs": [],
     "prompt_number": 12
    },
    {
     "cell_type": "code",
     "collapsed": false,
     "input": [
      "double_input(5)"
     ],
     "language": "python",
     "metadata": {},
     "outputs": [
      {
       "output_type": "pyout",
       "prompt_number": 13,
       "text": [
        "10"
       ]
      }
     ],
     "prompt_number": 13
    },
    {
     "cell_type": "markdown",
     "metadata": {},
     "source": [
      "If the first line of a function definition is a string, that string serves as the function's documentation. You can access a function's docstring through the variable `__doc__`:"
     ]
    },
    {
     "cell_type": "code",
     "collapsed": false,
     "input": [
      "def square(x):\n",
      "    '''\n",
      "    The function square accepts a numeric value x as input and returns x*x as its output.\n",
      "    '''\n",
      "    return x * x"
     ],
     "language": "python",
     "metadata": {},
     "outputs": [],
     "prompt_number": 14
    },
    {
     "cell_type": "code",
     "collapsed": false,
     "input": [
      "print square.__doc__"
     ],
     "language": "python",
     "metadata": {},
     "outputs": [
      {
       "output_type": "stream",
       "stream": "stdout",
       "text": [
        "\n",
        "    The function square accepts a numeric value x as input and returns x*x as its output.\n",
        "    \n"
       ]
      }
     ],
     "prompt_number": 15
    },
    {
     "cell_type": "code",
     "collapsed": false,
     "input": [
      "square(5)"
     ],
     "language": "python",
     "metadata": {},
     "outputs": [
      {
       "output_type": "pyout",
       "prompt_number": 16,
       "text": [
        "25"
       ]
      }
     ],
     "prompt_number": 16
    },
    {
     "cell_type": "markdown",
     "metadata": {},
     "source": [
      "Functions can also have default values, which are specified when the function is declared:"
     ]
    },
    {
     "cell_type": "code",
     "collapsed": false,
     "input": [
      "def linear_func(x, a, b, printing = False):\n",
      "    y = a * x + b\n",
      "    if printing:\n",
      "        print \"%s = %s * %s + %s\" % (y, a, x, b)"
     ],
     "language": "python",
     "metadata": {},
     "outputs": [],
     "prompt_number": 17
    },
    {
     "cell_type": "code",
     "collapsed": false,
     "input": [
      "# We call a function with its defaults like so:\n",
      "linear_func(2, 1, 1)"
     ],
     "language": "python",
     "metadata": {},
     "outputs": [],
     "prompt_number": 18
    },
    {
     "cell_type": "code",
     "collapsed": false,
     "input": [
      "# Or we can pass a value that overrides the default:\n",
      "linear_func(2, 1, 1, True)"
     ],
     "language": "python",
     "metadata": {},
     "outputs": [
      {
       "output_type": "stream",
       "stream": "stdout",
       "text": [
        "3 = 1 * 2 + 1\n"
       ]
      }
     ],
     "prompt_number": 19
    },
    {
     "cell_type": "heading",
     "level": 2,
     "metadata": {},
     "source": [
      "Classes"
     ]
    },
    {
     "cell_type": "heading",
     "level": 3,
     "metadata": {},
     "source": [
      "Defining Classes"
     ]
    },
    {
     "cell_type": "markdown",
     "metadata": {},
     "source": [
      "We can declare a class using the keyword `class`, followed by the name we want to use for the class. It's not required, but this name is often capitalized:"
     ]
    },
    {
     "cell_type": "code",
     "collapsed": false,
     "input": [
      "class Dog:\n",
      "    def __init__(self, name, age):\n",
      "        self.name = name\n",
      "        self.age = age"
     ],
     "language": "python",
     "metadata": {},
     "outputs": [],
     "prompt_number": 27
    },
    {
     "cell_type": "markdown",
     "metadata": {},
     "source": [
      "We use the `__init__` function to define a _constructor_ for our class. The first argument that we pass in to `__init__` is the odd-looking `self` parameter. This is a reference to the current object, and is analogous to `this` in C++ or Java. Inside the constructor, we set member variables using the notation `self.variable_name`. Later when we refer to these variables we'll use that same notation. The `self` is how we know that we're working with a member variable or member function - if you forget it then things won't work the way you expect."
     ]
    },
    {
     "cell_type": "markdown",
     "metadata": {},
     "source": [
      "We can define functions in our classes using the same keyword as for regular functions. We have to remember the `self` parameter though:"
     ]
    },
    {
     "cell_type": "code",
     "collapsed": false,
     "input": [
      "class Cat:\n",
      "    def __init__(self, name, age):\n",
      "        self.name = name\n",
      "        self.age = age\n",
      "        \n",
      "    def speak(self):\n",
      "        print \"meow\""
     ],
     "language": "python",
     "metadata": {},
     "outputs": [],
     "prompt_number": 28
    },
    {
     "cell_type": "heading",
     "level": 3,
     "metadata": {},
     "source": [
      "Using Classes"
     ]
    },
    {
     "cell_type": "markdown",
     "metadata": {},
     "source": [
      "To create an instance of a class, we don't actually use the `__init__` function directly. Instead, we use the name of the class as the constructor name, and Python makes sure the right thing happens:"
     ]
    },
    {
     "cell_type": "code",
     "collapsed": false,
     "input": [
      "c = Cat('Whiskers', 3)"
     ],
     "language": "python",
     "metadata": {},
     "outputs": [],
     "prompt_number": 29
    },
    {
     "cell_type": "markdown",
     "metadata": {},
     "source": [
      "Once we have an instance of a class, we can call its member functions and access its member variables:"
     ]
    },
    {
     "cell_type": "code",
     "collapsed": false,
     "input": [
      "print c.age\n",
      "c.speak()"
     ],
     "language": "python",
     "metadata": {},
     "outputs": [
      {
       "output_type": "stream",
       "stream": "stdout",
       "text": [
        "3\n",
        "meow\n"
       ]
      }
     ],
     "prompt_number": 30
    },
    {
     "cell_type": "markdown",
     "metadata": {},
     "source": [
      "Notice that for both the constructor and method calls we don't explicitly write the `self` keyword. You can think of a call like `c.speak()` as being translated into something like `speak(c)`, where `c` is interpreted as a pointer to the object whose method we're calling."
     ]
    },
    {
     "cell_type": "markdown",
     "metadata": {},
     "source": [
      "It may make you uncomfortable that we're accessing `c.age` directly. This is typical, and unlike Java or C++, there is no such thing as a \"private\" member variable. There are some mechanisms for hiding names. If you're curious about the details, check out [this link](http://docs.python.org/2/tutorial/classes.html#private-variables-and-class-local-references)."
     ]
    },
    {
     "cell_type": "heading",
     "level": 2,
     "metadata": {},
     "source": [
      "Imports"
     ]
    },
    {
     "cell_type": "markdown",
     "metadata": {},
     "source": [
      "Python has a much more sensible notion of packages and imports than C or C++. For now, we'll focus on using packages written by others. All you do is `import` them:"
     ]
    },
    {
     "cell_type": "code",
     "collapsed": false,
     "input": [
      "import random\n",
      "random.sample(range(1, 101), 5)"
     ],
     "language": "python",
     "metadata": {},
     "outputs": [
      {
       "output_type": "pyout",
       "prompt_number": 31,
       "text": [
        "[17, 90, 13, 42, 48]"
       ]
      }
     ],
     "prompt_number": 31
    },
    {
     "cell_type": "markdown",
     "metadata": {},
     "source": [
      "The code above imports the standard `random` package, and uses the function `sample` in `random` to randomly choose five values from the list `[1, ..., 100]`. Notice that when we use a function in a package that we import, we have to qualify the function name with its package name."
     ]
    },
    {
     "cell_type": "heading",
     "level": 2,
     "metadata": {},
     "source": [
      "File I/O"
     ]
    },
    {
     "cell_type": "markdown",
     "metadata": {},
     "source": [
      "Working with text files is easy. Suppose we have a file consisting of names and other information for members of the US Senate. First, let's just iterate through this list to see what's on each line. This is an older list (can you see how I know that?), which I found [here](http://www.aggdata.com/political/us-senators)"
     ]
    },
    {
     "cell_type": "code",
     "collapsed": false,
     "input": [
      "for line in open('ussenator.csv', 'r'):\n",
      "    print line"
     ],
     "language": "python",
     "metadata": {},
     "outputs": [
      {
       "output_type": "stream",
       "stream": "stdout",
       "text": [
        "Name,Party,State,Address,Phone Number,Web Page,Contact Link\r\n",
        "\n",
        "\"Akaka, Daniel K.\",D,HI,141 HART SENATE OFFICE BUILDING WASHINGTON DC 20510,(202) 224-6361,http://akaka.senate.gov,http://akaka.senate.gov/email-senator-akaka.cfm\r\n",
        "\n",
        "\"Alexander, Lamar\",R,TN,455 DIRKSEN SENATE OFFICE BUILDING WASHINGTON DC 20510,(202) 224-4944,http://alexander.senate.gov/,http://alexander.senate.gov/public/index.cfm?p=Email\r\n",
        "\n",
        "\"Ayotte, Kelly\",R,NH,188 RUSSELL SENATE OFFICE BUILDING WASHINGTON DC 20510,(202) 224-3324,http://ayotte.senate.gov ,http://ayotte.senate.gov/contact_form.cfm\r\n",
        "\n",
        "\"Barrasso, John\",R,WY,307 DIRKSEN SENATE OFFICE BUILDING WASHINGTON DC 20510,(202) 224-6441,http://barrasso.senate.gov,http://barrasso.senate.gov/public/index.cfm?FuseAction=ContactUs.ContactForm\r\n",
        "\n",
        "\"Baucus, Max\",D,MT,511 HART SENATE OFFICE BUILDING WASHINGTON DC 20510,(202) 224-2651,http://baucus.senate.gov,http://baucus.senate.gov/contact/emailForm.cfm?subj=issue\r\n",
        "\n",
        "\"Begich, Mark\",D,AK,144 RUSSELL SENATE OFFICE BUILDING WASHINGTON DC 20510,(202) 224-3004,http://begich.senate.gov,http://begich.senate.gov/public/index.cfm?p=EmailSenator\r\n",
        "\n",
        "\"Bennet, Michael F.\",D,CO,702 HART SENATE OFFICE BUILDING WASHINGTON DC 20510,(202) 224-5852,http://bennet.senate.gov,http://bennet.senate.gov/contact/\r\n",
        "\n",
        "\"Bingaman, Jeff\",D,NM,703 HART SENATE OFFICE BUILDING WASHINGTON DC 20510,(202) 224-5521,http://bingaman.senate.gov,http://bingaman.senate.gov/contact/\r\n",
        "\n",
        "\"Blumenthal, Richard\",D,CT,G55 DIRKSEN SENATE OFFICE BUILDING WASHINGTON DC 20510,(202) 224-2823,http://blumenthal.senate.gov,http://blumenthal.senate.gov/contact/\r\n",
        "\n",
        "\"Blunt, Roy\",R,MO,B40C DIRKSEN SENATE OFFICE BUILDING WASHINGTON DC 20510,(202) 224-5721,http://blunt.senate.gov,http://blunt.senate.gov/public/index.cfm/contact\r\n",
        "\n",
        "\"Boozman, John\",R,AR,1 RUSSELL COURTYARD WASHINGTON DC 20510,(202) 224-4843,http://boozman.senate.gov/,http://boozman.senate.gov/contact_form.cfm\r\n",
        "\n",
        "\"Boxer, Barbara\",D,CA,112 HART SENATE OFFICE BUILDING WASHINGTON DC 20510,(202) 224-3553,http://boxer.senate.gov,http://boxer.senate.gov/en/contact/\r\n",
        "\n",
        "\"Brown, Scott P.\",R,MA,317 RUSSELL SENATE OFFICE BUILDING WASHINGTON DC 20510,(202) 224-4543,http://scottbrown.senate.gov,http://scottbrown.senate.gov/public/index.cfm/emailscottbrown\r\n",
        "\n",
        "\"Brown, Sherrod\",D,OH,713 HART SENATE OFFICE BUILDING WASHINGTON DC 20510,(202) 224-2315,http://brown.senate.gov/,http://brown.senate.gov/contact/\r\n",
        "\n",
        "\"Burr, Richard\",R,NC,217 RUSSELL SENATE OFFICE BUILDING WASHINGTON DC 20510,(202) 224-3154,http://burr.senate.gov,http://burr.senate.gov/public/index.cfm?FuseAction=Contact.ContactForm\r\n",
        "\n",
        "\"Cantwell, Maria\",D,WA,511 DIRKSEN SENATE OFFICE BUILDING WASHINGTON DC 20510,(202) 224-3441,http://cantwell.senate.gov,http://cantwell.senate.gov/contact/\r\n",
        "\n",
        "\"Cardin, Benjamin L.\",D,MD,509 HART SENATE OFFICE BUILDING WASHINGTON DC 20510,(202) 224-4524,http://cardin.senate.gov/,http://cardin.senate.gov/contact/email.cfm\r\n",
        "\n",
        "\"Carper, Thomas R.\",D,DE,513 HART SENATE OFFICE BUILDING WASHINGTON DC 20510,(202) 224-2441,http://carper.senate.gov,http://carper.senate.gov/contact/\r\n",
        "\n",
        "\"Casey, Robert P., Jr.\",D,PA,393 RUSSELL SENATE OFFICE BUILDING WASHINGTON DC 20510,(202) 224-6324,http://casey.senate.gov/,http://casey.senate.gov/contact/\r\n",
        "\n",
        "\"Chambliss, Saxby\",R,GA,416 RUSSELL SENATE OFFICE BUILDING WASHINGTON DC 20510,(202) 224-3521,http://chambliss.senate.gov,http://chambliss.senate.gov/public/index.cfm?p=Email\r\n",
        "\n",
        "\"Coats, Daniel\",R,IN,B40E DIRKSEN SENATE OFFICE BUILDING WASHINGTON DC 20510,(202) 224-5623,http://coats.senate.gov,http://coats.senate.gov/contact/\r\n",
        "\n",
        "\"Coburn, Tom\",R,OK,172 RUSSELL SENATE OFFICE BUILDING WASHINGTON DC 20510,(202) 224-5754,http://coburn.senate.gov,http://coburn.senate.gov/public/index.cfm/contactsenatorcoburn?p=ContactForm\r\n",
        "\n",
        "\"Cochran, Thad\",R,MS,113 DIRKSEN SENATE OFFICE BUILDING WASHINGTON DC 20510,(202) 224-5054,http://cochran.senate.gov,http://cochran.senate.gov/email.html\r\n",
        "\n",
        "\"Collins, Susan M.\",R,ME,413 DIRKSEN SENATE OFFICE BUILDING WASHINGTON DC 20510,(202) 224-2523,http://collins.senate.gov,http://collins.senate.gov/public/continue.cfm?FuseAction=ContactSenatorCollins.EmailIssue\r\n",
        "\n",
        "\"Conrad, Kent\",D,ND,530 HART SENATE OFFICE BUILDING WASHINGTON DC 20510,(202) 224-2043,http://conrad.senate.gov,http://conrad.senate.gov/contact/webform.cfm\r\n",
        "\n",
        "\"Coons, Christopher A.\",D,DE,383 RUSSELL SENATE OFFICE BUILDING WASHINGTON DC 20510,(202) 224-5042,http://coons.senate.gov/,http://coons.senate.gov/contact/\r\n",
        "\n",
        "\"Corker, Bob\",R,TN,185 DIRKSEN SENATE OFFICE BUILDING WASHINGTON DC 20510,(202) 224-3344,http://corker.senate.gov/,http://corker.senate.gov/public/index.cfm?p=ContactMe\r\n",
        "\n",
        "\"Cornyn, John\",R,TX,517 HART SENATE OFFICE BUILDING WASHINGTON DC 20510,(202) 224-2934,http://cornyn.senate.gov/,http://cornyn.senate.gov/public/index.cfm?p=ContactForm\r\n",
        "\n",
        "\"Crapo, Mike\",R,ID,239 DIRKSEN SENATE OFFICE BUILDING WASHINGTON DC 20510,(202) 224-6142,http://crapo.senate.gov,http://crapo.senate.gov/contact/email.cfm\r\n",
        "\n",
        "\"DeMint, Jim\",R,SC,167 RUSSELL SENATE OFFICE BUILDING WASHINGTON DC 20510,(202) 224-6121,http://demint.senate.gov,http://demint.senate.gov/public/index.cfm?p=ContactInformation\r\n",
        "\n",
        "\"Durbin, Richard J.\",D,IL,711 HART SENATE OFFICE BUILDING WASHINGTON DC 20510,(202) 224-2152,http://durbin.senate.gov,http://durbin.senate.gov/contact.cfm\r\n",
        "\n",
        "\"Ensign, John\",R,NV,119 RUSSELL SENATE OFFICE BUILDING WASHINGTON DC 20510,(202) 224-6244,http://ensign.senate.gov,http://ensign.senate.gov/public/index.cfm?FuseAction=Contact.ContactForm\r\n",
        "\n",
        "\"Enzi, Michael B.\",R,WY,379A RUSSELL SENATE OFFICE BUILDING WASHINGTON DC 20510,(202) 224-3424,http://enzi.senate.gov,http://enzi.senate.gov/public/index.cfm?FuseAction=ContactInformation.EmailSenatorEnzi\r\n",
        "\n",
        "\"Feinstein, Dianne\",D,CA,331 HART SENATE OFFICE BUILDING WASHINGTON DC 20510,(202) 224-3841,http://feinstein.senate.gov,http://feinstein.senate.gov/public/index.cfm?FuseAction=ContactUs.EmailMe\r\n",
        "\n",
        "\"Franken, Al\",D,MN,320 HART SENATE OFFICE BUILDING WASHINGTON DC 20510,(202) 224-5641,http://franken.senate.gov,http://franken.senate.gov/?p=contact\r\n",
        "\n",
        "\"Gillibrand, Kirsten E.\",D,NY,478 RUSSELL SENATE OFFICE BUILDING WASHINGTON DC 20510,(202) 224-4451,http://gillibrand.senate.gov,http://gillibrand.senate.gov/contact/\r\n",
        "\n",
        "\"Graham, Lindsey\",R,SC,290 RUSSELL SENATE OFFICE BUILDING WASHINGTON DC 20510,(202) 224-5972,http://lgraham.senate.gov/,http://lgraham.senate.gov/public/index.cfm?FuseAction=Contact.EmailSenatorGraham\r\n",
        "\n",
        "\"Grassley, Chuck\",R,IA,135 HART SENATE OFFICE BUILDING WASHINGTON DC 20510,(202) 224-3744,http://grassley.senate.gov,http://grassley.senate.gov/contact.cfm\r\n",
        "\n",
        "\"Hagan, Kay R.\",D,NC,521 DIRKSEN SENATE OFFICE BUILDING WASHINGTON DC 20510,(202) 224-6342,http://hagan.senate.gov,http://hagan.senate.gov/?p=contact\r\n",
        "\n",
        "\"Harkin, Tom\",D,IA,731 HART SENATE OFFICE BUILDING WASHINGTON DC 20510,(202) 224-3254,http://harkin.senate.gov/,http://harkin.senate.gov/contact.cfm\r\n",
        "\n",
        "\"Hatch, Orrin G.\",R,UT,104 HART SENATE OFFICE BUILDING WASHINGTON DC 20510,(202) 224-5251,http://hatch.senate.gov/,http://hatch.senate.gov/public/index.cfm?FuseAction=Offices.Contact\r\n",
        "\n",
        "\"Hoeven, John\",R,ND,G11 DIRKSEN SENATE OFFICE BUILDING WASHINGTON DC 20510,(202) 224-2551,http://hoeven.senate.gov,http://hoeven.senate.gov/contact_form.cfm\r\n",
        "\n",
        "\"Hutchison, Kay Bailey\",R,TX,284 RUSSELL SENATE OFFICE BUILDING WASHINGTON DC 20510,(202) 224-5922,http://hutchison.senate.gov/,http://hutchison.senate.gov/contact.cfm\r\n",
        "\n",
        "\"Inhofe, James M.\",R,OK,205 RUSSELL SENATE OFFICE BUILDING WASHINGTON DC 20510,(202) 224-4721,http://inhofe.senate.gov/,http://inhofe.senate.gov/public/index.cfm?FuseAction=Contact.ContactForm\r\n",
        "\n",
        "\"Inouye, Daniel K.\",D,HI,722 HART SENATE OFFICE BUILDING WASHINGTON DC 20510,(202) 224-3934,http://inouye.senate.gov/,http://inouye.senate.gov/Contact/ContactDKI.cfm\r\n",
        "\n",
        "\"Isakson, Johnny\",R,GA,131 RUSSELL SENATE OFFICE BUILDING WASHINGTON DC 20510,(202) 224-3643,http://isakson.senate.gov,http://isakson.senate.gov/contact.cfm\r\n",
        "\n",
        "\"Johanns, Mike\",R,NE,404 RUSSELL SENATE OFFICE BUILDING WASHINGTON DC 20510,(202) 224-4224,http://johanns.senate.gov,http://johanns.senate.gov/public/?p=ContactSenatorJohanns\r\n",
        "\n",
        "\"Johnson, Ron\",R,WI,2 RUSSELL COURTYARD WASHINGTON DC 20510,(202) 224-5323,http://ronjohnson.senate.gov/,http://ronjohnson.senate.gov/public/index.cfm/contact\r\n",
        "\n",
        "\"Johnson, Tim\",D,SD,136 HART SENATE OFFICE BUILDING WASHINGTON DC 20510,(202) 224-5842,http://johnson.senate.gov/,http://johnson.senate.gov/public/index.cfm?p=Contact\r\n",
        "\n",
        "\"Kerry, John F.\",D,MA,218 RUSSELL SENATE OFFICE BUILDING WASHINGTON DC 20510,(202) 224-2742,http://kerry.senate.gov/,http://kerry.senate.gov/contact/\r\n",
        "\n",
        "\"Kirk, Mark\",R,IL,387 RUSSELL SENATE OFFICE BUILDING WASHINGTON DC 20510,(202) 224-2854,http://kirk.senate.gov,http://www.kirk.senate.gov/contact_form.cfm\r\n",
        "\n",
        "\"Klobuchar, Amy\",D,MN,302 HART SENATE OFFICE BUILDING WASHINGTON DC 20510,(202) 224-3244,http://klobuchar.senate.gov/,http://klobuchar.senate.gov/emailamy.cfm\r\n",
        "\n",
        "\"Kohl, Herb\",D,WI,330 HART SENATE OFFICE BUILDING WASHINGTON DC 20510,(202) 224-5653,http://kohl.senate.gov/,http://kohl.senate.gov/contact.cfm\r\n",
        "\n",
        "\"Kyl, Jon\",R,AZ,730 HART SENATE OFFICE BUILDING WASHINGTON DC 20510,(202) 224-4521,http://kyl.senate.gov/,http://kyl.senate.gov/contact.cfm\r\n",
        "\n",
        "\"Landrieu, Mary L.\",D,LA,431 DIRKSEN SENATE OFFICE BUILDING WASHINGTON DC 20510,(202) 224-5824,http://landrieu.senate.gov/,http://landrieu.senate.gov/about/contact.cfm\r\n",
        "\n",
        "\"Lautenberg, Frank R.\",D,NJ,324 HART SENATE OFFICE BUILDING WASHINGTON DC 20510,(202) 224-3224,http://lautenberg.senate.gov/,http://lautenberg.senate.gov/contact/routing.cfm\r\n",
        "\n",
        "\"Leahy, Patrick J.\",D,VT,433 RUSSELL SENATE OFFICE BUILDING WASHINGTON DC 20510,(202) 224-4242,http://leahy.senate.gov/,http://leahy.senate.gov/contact/\r\n",
        "\n",
        "\"Lee, Mike\",R,UT,825 HART SENATE OFFICE BUILDING WASHINGTON DC 20510,(202) 224-5444,http://lee.senate.gov/,null\r\n",
        "\n",
        "\"Levin, Carl\",D,MI,269 RUSSELL SENATE OFFICE BUILDING WASHINGTON DC 20510,(202) 224-6221,http://levin.senate.gov/,http://levin.senate.gov/contact/\r\n",
        "\n",
        "\"Lieberman, Joseph I.\",ID,CT,706 HART SENATE OFFICE BUILDING WASHINGTON DC 20510,(202) 224-4041,http://lieberman.senate.gov/,http://lieberman.senate.gov/index.cfm/contact/email-me-about-an-issue\r\n",
        "\n",
        "\"Lugar, Richard G.\",R,IN,306 HART SENATE OFFICE BUILDING WASHINGTON DC 20510,(202) 224-4814,http://lugar.senate.gov/,http://lugar.senate.gov/contact/\r\n",
        "\n",
        "\"Manchin, Joe, III\",D,WV,311 HART SENATE OFFICE BUILDING WASHINGTON DC 20510,(202) 224-3954,http://manchin.senate.gov/,http://manchin.senate.gov/contact_form.cfm\r\n",
        "\n",
        "\"McCain, John\",R,AZ,241 RUSSELL SENATE OFFICE BUILDING WASHINGTON DC 20510,(202) 224-2235,http://mccain.senate.gov/,http://mccain.senate.gov/public/index.cfm?FuseAction=Contact.ContactForm\r\n",
        "\n",
        "\"McCaskill, Claire\",D,MO,506 HART SENATE OFFICE BUILDING WASHINGTON DC 20510,(202) 224-6154,http://mccaskill.senate.gov/,http://mccaskill.senate.gov/?p=contact\r\n",
        "\n",
        "\"McConnell, Mitch\",R,KY,361A RUSSELL SENATE OFFICE BUILDING WASHINGTON DC 20510,(202) 224-2541,http://mcconnell.senate.gov/,http://www.mcconnell.senate.gov/public/index.cfm?p=contact\r\n",
        "\n",
        "\"Menendez, Robert\",D,NJ,528 HART SENATE OFFICE BUILDING WASHINGTON DC 20510,(202) 224-4744,http://menendez.senate.gov/,http://menendez.senate.gov/contact/\r\n",
        "\n",
        "\"Merkley, Jeff\",D,OR,107 RUSSELL SENATE OFFICE BUILDING WASHINGTON DC 20510,(202) 224-3753,http://merkley.senate.gov,http://merkley.senate.gov/contact/\r\n",
        "\n",
        "\"Mikulski, Barbara A.\",D,MD,503 HART SENATE OFFICE BUILDING WASHINGTON DC 20510,(202) 224-4654,http://mikulski.senate.gov/,http://mikulski.senate.gov/contact/\r\n",
        "\n",
        "\"Moran, Jerry\",R,KS,4 RUSSELL COURTYARD WASHINGTON DC 20510,(202) 224-6521,http://moran.senate.gov,http://moran.senate.gov/public/index.cfm?p=e-mail-jerry\r\n",
        "\n",
        "\"Murkowski, Lisa\",R,AK,709 HART SENATE OFFICE BUILDING WASHINGTON DC 20510,(202) 224-6665,http://murkowski.senate.gov/,http://murkowski.senate.gov/public/index.cfm?p=Contact\r\n",
        "\n",
        "\"Murray, Patty\",D,WA,448 RUSSELL SENATE OFFICE BUILDING WASHINGTON DC 20510,(202) 224-2621,http://murray.senate.gov/,http://murray.senate.gov/email/index.cfm\r\n",
        "\n",
        "\"Nelson, Ben\",D,NE,720 HART SENATE OFFICE BUILDING WASHINGTON DC 20510,(202) 224-6551,http://bennelson.senate.gov/,http://bennelson.senate.gov/contact-me.cfm\r\n",
        "\n",
        "\"Nelson, Bill\",D,FL,716 HART SENATE OFFICE BUILDING WASHINGTON DC 20510,(202) 224-5274,http://billnelson.senate.gov/,http://billnelson.senate.gov/contact/index.cfm\r\n",
        "\n",
        "\"Paul, Rand\",R,KY,5 RUSSELL COURTYARD WASHINGTON DC 20510,(202) 224-4343,http://paul.senate.gov,http://paul.senate.gov/contact_form.cfm\r\n",
        "\n",
        "\"Portman, Rob\",R,OH,B40D DIRKSEN SENATE OFFICE BUILDING WASHINGTON DC 20510,(202) 224-3353,http://portman.senate.gov,http://portman.senate.gov/contact_form.cfm\r\n",
        "\n",
        "\"Pryor, Mark L.\",D,AR,255 DIRKSEN SENATE OFFICE BUILDING WASHINGTON DC 20510,(202) 224-2353,http://pryor.senate.gov,http://pryor.senate.gov/public/index.cfm?p=ContactMe\r\n",
        "\n",
        "\"Reed, Jack\",D,RI,728 HART SENATE OFFICE BUILDING WASHINGTON DC 20510,(202) 224-4642,http://reed.senate.gov/,http://reed.senate.gov/contact/contact-share.cfm\r\n",
        "\n",
        "\"Reid, Harry\",D,NV,522 HART SENATE OFFICE BUILDING WASHINGTON DC 20510,(202) 224-3542,http://reid.senate.gov/,http://reid.senate.gov/contact/index.cfm\r\n",
        "\n",
        "\"Risch, James E.\",R,ID,483 RUSSELL SENATE OFFICE BUILDING WASHINGTON DC 20510,(202) 224-2752,http://risch.senate.gov,http://risch.senate.gov/public/index.cfm?p=Email\r\n",
        "\n",
        "\"Roberts, Pat\",R,KS,109 HART SENATE OFFICE BUILDING WASHINGTON DC 20510,(202) 224-4774,http://roberts.senate.gov/,http://www.roberts.senate.gov/public/index.cfm?p=EmailPat\r\n",
        "\n",
        "\"Rockefeller, John D., IV\",D,WV,531 HART SENATE OFFICE BUILDING WASHINGTON DC 20510,(202) 224-6472,http://rockefeller.senate.gov/,http://rockefeller.senate.gov/contact/email.cfm\r\n",
        "\n",
        "\"Rubio, Marco\",R,FL,B40A DIRKSEN SENATE OFFICE BUILDING WASHINGTON DC 20510,(202) 224-3041,http://rubio.senate.gov,http://rubio.senate.gov/public/index.cfm/contact\r\n",
        "\n",
        "\"Sanders, Bernard\",I,VT,332 DIRKSEN SENATE OFFICE BUILDING WASHINGTON DC 20510,(202) 224-5141,http://sanders.senate.gov/,http://sanders.senate.gov/contact/\r\n",
        "\n",
        "\"Schumer, Charles E.\",D,NY,322 HART SENATE OFFICE BUILDING WASHINGTON DC 20510,(202) 224-6542,http://schumer.senate.gov/,http://schumer.senate.gov/new_website/contact.cfm\r\n",
        "\n",
        "\"Sessions, Jeff\",R,AL,335 RUSSELL SENATE OFFICE BUILDING WASHINGTON DC 20510,(202) 224-4124,http://sessions.senate.gov/,http://sessions.senate.gov/public/index.cfm?FuseAction=ConstituentServices.ContactMe\r\n",
        "\n",
        "\"Shaheen, Jeanne\",D,NH,520 HART SENATE OFFICE BUILDING WASHINGTON DC 20510,(202) 224-2841,http://shaheen.senate.gov,http://shaheen.senate.gov/contact/\r\n",
        "\n",
        "\"Shelby, Richard C.\",R,AL,304 RUSSELL SENATE OFFICE BUILDING WASHINGTON DC 20510,(202) 224-5744,http://shelby.senate.gov/,http://shelby.senate.gov/public/index.cfm?p=ContactSenatorShelby\r\n",
        "\n",
        "\"Snowe, Olympia J.\",R,ME,154 RUSSELL SENATE OFFICE BUILDING WASHINGTON DC 20510,(202) 224-5344,http://snowe.senate.gov/,http://snowe.senate.gov/public/index.cfm?FuseAction=ContactSenatorSnowe.Email\r\n",
        "\n",
        "\"Stabenow, Debbie\",D,MI,133 HART SENATE OFFICE BUILDING WASHINGTON DC 20510,(202) 224-4822,http://stabenow.senate.gov/,http://stabenow.senate.gov/?p=contact\r\n",
        "\n",
        "\"Tester, Jon\",D,MT,724 HART SENATE OFFICE BUILDING WASHINGTON DC 20510,(202) 224-2644,http://tester.senate.gov/,http://tester.senate.gov/Contact/index.cfm\r\n",
        "\n",
        "\"Thune, John\",R,SD,493 RUSSELL SENATE OFFICE BUILDING WASHINGTON DC 20510,(202) 224-2321,http://thune.senate.gov/,http://thune.senate.gov/public/index.cfm?FuseAction=Contact.Email\r\n",
        "\n",
        "\"Toomey, Patrick J.\",R,PA,B40B DIRKSEN SENATE OFFICE BUILDING WASHINGTON DC 20510,(202) 224-4254,http://toomey.senate.gov/,http://toomey.senate.gov/contact_form.cfm\r\n",
        "\n",
        "\"Udall, Mark\",D,CO,317 HART SENATE OFFICE BUILDING WASHINGTON DC 20510,(202) 224-5941,http://markudall.senate.gov,http://markudall.senate.gov/?p=contact\r\n",
        "\n",
        "\"Udall, Tom\",D,NM,110 HART SENATE OFFICE BUILDING WASHINGTON DC 20510,(202) 224-6621,http://tomudall.senate.gov,http://tomudall.senate.gov/?p=contact\r\n",
        "\n",
        "\"Vitter, David\",R,LA,516 HART SENATE OFFICE BUILDING WASHINGTON DC 20510,(202) 224-4623,http://vitter.senate.gov/,http://vitter.senate.gov/public/index.cfm?FuseAction=Contact.ContactForm\r\n",
        "\n",
        "\"Warner, Mark R.\",D,VA,459A RUSSELL SENATE OFFICE BUILDING WASHINGTON DC 20510,(202) 224-2023,http://warner.senate.gov,http://warner.senate.gov/public/index.cfm?p=Contact\r\n",
        "\n",
        "\"Webb, Jim\",D,VA,248 RUSSELL SENATE OFFICE BUILDING WASHINGTON DC 20510,(202) 224-4024,http://webb.senate.gov/,http://webb.senate.gov/contact.cfm\r\n",
        "\n",
        "\"Whitehouse, Sheldon\",D,RI,502 HART SENATE OFFICE BUILDING WASHINGTON DC 20510,(202) 224-2921,http://whitehouse.senate.gov/,http://whitehouse.senate.gov/contact/\r\n",
        "\n",
        "\"Wicker, Roger F.\",R,MS,555 DIRKSEN SENATE OFFICE BUILDING WASHINGTON DC 20510,(202) 224-6253,http://wicker.senate.gov,http://wicker.senate.gov/public/index.cfm?FuseAction=Contact.EMailSenatorWicker \r\n",
        "\n",
        "\"Wyden, Ron\",D,OR,223 DIRKSEN SENATE OFFICE BUILDING WASHINGTON DC 20510,(202) 224-5244,http://wyden.senate.gov/,http://wyden.senate.gov/contact/\r\n",
        "\n"
       ]
      }
     ],
     "prompt_number": 37
    },
    {
     "cell_type": "markdown",
     "metadata": {},
     "source": [
      "Not bad. That's quite a bit easier than in C or even C++. Now suppose we want to count the number of Democrats and Republicans (the D's and the R's). That's only a little bit more work:"
     ]
    },
    {
     "cell_type": "code",
     "collapsed": false,
     "input": [
      "affiliations = {'D' : 0, 'R' : 0, 'ID' : 0}\n",
      "first_line = True\n",
      "for line in open('ussenator.csv', 'r'):\n",
      "    # skip the header\n",
      "    if first_line:\n",
      "        first_line = False\n",
      "        continue\n",
      "        \n",
      "    # this handles the case where the affiliation isn't the third item\n",
      "    # due to unusual naming.\n",
      "    parts = line.split(',')\n",
      "    if parts[2] in [' Jr.\"', ' III\"', ' IV\"']:\n",
      "        affiliations[parts[3]] += 1\n",
      "        continue\n",
      "        \n",
      "    # this handles inconsistent labeling for independents\n",
      "    if parts[2] in ['I', 'ID']:\n",
      "        affiliations['ID'] += 1\n",
      "    else:\n",
      "        affiliations[parts[2]] += 1\n",
      "            \n",
      "    \n",
      "print affiliations"
     ],
     "language": "python",
     "metadata": {},
     "outputs": [
      {
       "output_type": "stream",
       "stream": "stdout",
       "text": [
        "{'R': 47, 'D': 51, 'ID': 2}\n"
       ]
      }
     ],
     "prompt_number": 69
    },
    {
     "cell_type": "code",
     "collapsed": false,
     "input": [],
     "language": "python",
     "metadata": {},
     "outputs": [],
     "prompt_number": 66
    }
   ],
   "metadata": {}
  }
 ]
}