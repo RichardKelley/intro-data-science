{
 "metadata": {
  "name": ""
 },
 "nbformat": 3,
 "nbformat_minor": 0,
 "worksheets": [
  {
   "cells": [
    {
     "cell_type": "code",
     "collapsed": false,
     "input": [
      "%pylab inline"
     ],
     "language": "python",
     "metadata": {},
     "outputs": [
      {
       "output_type": "stream",
       "stream": "stdout",
       "text": [
        "Populating the interactive namespace from numpy and matplotlib\n"
       ]
      }
     ],
     "prompt_number": 5
    },
    {
     "cell_type": "heading",
     "level": 1,
     "metadata": {},
     "source": [
      "Implementing Logistic Regression with Theano"
     ]
    },
    {
     "cell_type": "heading",
     "level": 2,
     "metadata": {},
     "source": [
      "Introduction"
     ]
    },
    {
     "cell_type": "markdown",
     "metadata": {},
     "source": [
      "This notebook discusses how you can use Theano to code up logistic regression. A solid understanding of logistic regression is helpful for understanding neural networks, so make sure you understand what's going on here before you start implementing your neural nets.\n",
      "\n",
      "We use Theano to do the heavy lifting, but we use scikit-learn to generate training data for our model to learn from.\n",
      "\n",
      "This is based on an example in the Theano docs, [found here](http://deeplearning.net/software/theano/tutorial/examples.html#a-real-example-logistic-regression)"
     ]
    },
    {
     "cell_type": "heading",
     "level": 2,
     "metadata": {},
     "source": [
      "Imports"
     ]
    },
    {
     "cell_type": "markdown",
     "metadata": {},
     "source": [
      "First we import numpy - we'll use this for manipulating the data."
     ]
    },
    {
     "cell_type": "code",
     "collapsed": false,
     "input": [
      "import numpy as np"
     ],
     "language": "python",
     "metadata": {},
     "outputs": [],
     "prompt_number": 6
    },
    {
     "cell_type": "markdown",
     "metadata": {},
     "source": [
      "We import both `theano` and `theano.tensor` as `T`. We use `T` when dealing with variables, and `theano` to create functions from expressions defined in terms of our variables"
     ]
    },
    {
     "cell_type": "code",
     "collapsed": false,
     "input": [
      "import theano\n",
      "import theano.tensor as T"
     ],
     "language": "python",
     "metadata": {},
     "outputs": [],
     "prompt_number": 7
    },
    {
     "cell_type": "markdown",
     "metadata": {},
     "source": [
      "We use `sklearn` to get sample datasets."
     ]
    },
    {
     "cell_type": "code",
     "collapsed": false,
     "input": [
      "from sklearn import datasets"
     ],
     "language": "python",
     "metadata": {},
     "outputs": [],
     "prompt_number": 8
    },
    {
     "cell_type": "heading",
     "level": 2,
     "metadata": {},
     "source": [
      "The Data"
     ]
    },
    {
     "cell_type": "markdown",
     "metadata": {},
     "source": [
      "This is just like our other examples - play with the parameters to create more interesting datasets."
     ]
    },
    {
     "cell_type": "code",
     "collapsed": false,
     "input": [
      "(x_dat,y_dat) = datasets.make_classification(n_samples=400,\n",
      "                                     n_features=2,\n",
      "                                     n_informative=2,\n",
      "                                     n_redundant=0,\n",
      "                                     n_repeated=0,\n",
      "                                     n_clusters_per_class=1,\n",
      "                                     class_sep=4)\n",
      "scatter(x_dat[:,0], x_dat[:,1], c = y_dat, cmap='cool')"
     ],
     "language": "python",
     "metadata": {},
     "outputs": [
      {
       "ename": "NameError",
       "evalue": "name 'scatter' is not defined",
       "output_type": "pyerr",
       "traceback": [
        "\u001b[0;31m---------------------------------------------------------------------------\u001b[0m\n\u001b[0;31mNameError\u001b[0m                                 Traceback (most recent call last)",
        "\u001b[0;32m<ipython-input-4-1254643047c8>\u001b[0m in \u001b[0;36m<module>\u001b[0;34m()\u001b[0m\n\u001b[1;32m      6\u001b[0m                                      \u001b[0mn_clusters_per_class\u001b[0m\u001b[0;34m=\u001b[0m\u001b[0;36m1\u001b[0m\u001b[0;34m,\u001b[0m\u001b[0;34m\u001b[0m\u001b[0m\n\u001b[1;32m      7\u001b[0m                                      class_sep=4)\n\u001b[0;32m----> 8\u001b[0;31m \u001b[0mscatter\u001b[0m\u001b[0;34m(\u001b[0m\u001b[0mx_dat\u001b[0m\u001b[0;34m[\u001b[0m\u001b[0;34m:\u001b[0m\u001b[0;34m,\u001b[0m\u001b[0;36m0\u001b[0m\u001b[0;34m]\u001b[0m\u001b[0;34m,\u001b[0m \u001b[0mx_dat\u001b[0m\u001b[0;34m[\u001b[0m\u001b[0;34m:\u001b[0m\u001b[0;34m,\u001b[0m\u001b[0;36m1\u001b[0m\u001b[0;34m]\u001b[0m\u001b[0;34m,\u001b[0m \u001b[0mc\u001b[0m \u001b[0;34m=\u001b[0m \u001b[0my_dat\u001b[0m\u001b[0;34m,\u001b[0m \u001b[0mcmap\u001b[0m\u001b[0;34m=\u001b[0m\u001b[0;34m'cool'\u001b[0m\u001b[0;34m)\u001b[0m\u001b[0;34m\u001b[0m\u001b[0m\n\u001b[0m",
        "\u001b[0;31mNameError\u001b[0m: name 'scatter' is not defined"
       ]
      }
     ],
     "prompt_number": 4
    },
    {
     "cell_type": "heading",
     "level": 2,
     "metadata": {},
     "source": [
      "Specifying the Model"
     ]
    },
    {
     "cell_type": "markdown",
     "metadata": {},
     "source": [
      "You can play with the number of training steps here to see how training time affects performance:"
     ]
    },
    {
     "cell_type": "code",
     "collapsed": false,
     "input": [
      "training_steps = 1000"
     ],
     "language": "python",
     "metadata": {},
     "outputs": [],
     "prompt_number": 180
    },
    {
     "cell_type": "heading",
     "level": 3,
     "metadata": {},
     "source": [
      "Model Variables"
     ]
    },
    {
     "cell_type": "markdown",
     "metadata": {},
     "source": [
      "Here we start to define the model itself. We use `theano` variables to define `x` and `y` as a matrix and a vector, respectively. We then define the model parameters as _shared_ variables. For the details on shared variables, look at the [theano documentation](http://deeplearning.net/software/theano/tutorial/examples.html#using-shared-variables). The gist of the situation is that shared variables are both symbolic and non-symbolic (numerical), and the numerical value of a shared variable is a value that can be used (shared) across multiple functions. Shared variables also allow _updating_ as we'll see below. "
     ]
    },
    {
     "cell_type": "code",
     "collapsed": false,
     "input": [
      "x = T.matrix('x')\n",
      "y = T.vector('y')\n",
      "w = theano.shared(np.random.randn(2), name='w')\n",
      "b = theano.shared(0.0, name='b')\n",
      "print \"Initial model: \"\n",
      "print w.get_value(), b.get_value()"
     ],
     "language": "python",
     "metadata": {},
     "outputs": [
      {
       "output_type": "stream",
       "stream": "stdout",
       "text": [
        "Initial model: \n",
        "[-0.76997723 -1.36875274] 0.0\n"
       ]
      }
     ],
     "prompt_number": 181
    },
    {
     "cell_type": "heading",
     "level": 3,
     "metadata": {},
     "source": [
      "Symbolic Expressions for Logistic Regression"
     ]
    },
    {
     "cell_type": "markdown",
     "metadata": {},
     "source": [
      "Now we define a set of expressions that are the core of the model:\n",
      "\n",
      "First, we define $p(y = 1 | x,w,b) = \\frac{1}{1 + \\exp(-(x * w + b))}$. So we take a linear combination of the features ($x$) using our weights ($w$), add an offset ($b$), and then pass the result through the sigmoid function. That's it! Think about how this corresponds to the network diagram from last time.\n",
      "\n",
      "The value of `p_1` will always be a probability, but we want a decision. The easiest thing to do is just pick a threshold, which we do here with the `prediction` variable.\n",
      "\n",
      "As we discussed last time, we need a way to measure how good our solution is, both for a single example and for an entire training set. To get the cost of a single example, we use the _cross entropy_ between the training data and our prediction. Here, we define the cross entropy as $-y * \\log(p_1) - (1-y) * \\log(1-p_1)$. You can think of this as a cost incurred for using our model instead of reality. See [Wikipedia's entry on cross entropy](http://en.wikipedia.org/wiki/Cross_entropy) for details.\n",
      "\n",
      "The `cost` variable represents the cost incurred by our model on the entire training set. It has two parts, as we discussed last time. What are they?\n",
      "\n",
      "Lastly, we use Theano's awesome automatic differentiation capabilities to get derivatives of the cost with respect to the matrix $w$ and the vector $b$. Isn't that amazing!? "
     ]
    },
    {
     "cell_type": "code",
     "collapsed": false,
     "input": [
      "p_1 = 1 / (1 + T.exp(-T.dot(x,w) - b))\n",
      "prediction = p_1 > 0.5\n",
      "xent = -y * T.log(p_1) - (1-y) * T.log(1 - p_1)\n",
      "cost = xent.mean() + 0.01 * (w ** 2).sum()\n",
      "gw, gb = T.grad(cost, [w,b])"
     ],
     "language": "python",
     "metadata": {},
     "outputs": [],
     "prompt_number": 182
    },
    {
     "cell_type": "heading",
     "level": 3,
     "metadata": {},
     "source": [
      "Creating Executable Functions from Symbolic Expressions"
     ]
    },
    {
     "cell_type": "markdown",
     "metadata": {},
     "source": [
      "Once our expressions are defined, we create _functions_ from them, which we can run. To define a Theano function, we minimally must specify inputs and outputs, and can (for shared variables) also define _updates_, as we do for our `lr_train` function. The form of an update is `(variable, update_expression)`. Here, we use _gradient descent_ (as discussed last time) to update the model parameters using the gradient information computed in the last cell."
     ]
    },
    {
     "cell_type": "code",
     "collapsed": false,
     "input": [
      "lr_train = theano.function(\n",
      "        inputs=[x,y],\n",
      "        outputs=[prediction, xent],\n",
      "        updates=((w, w - 0.01 * gw), (b, b - 0.01 * gb)))\n",
      "lr_predict = theano.function(inputs = [x], outputs = prediction)"
     ],
     "language": "python",
     "metadata": {},
     "outputs": [],
     "prompt_number": 183
    },
    {
     "cell_type": "heading",
     "level": 2,
     "metadata": {},
     "source": [
      "Training the Model"
     ]
    },
    {
     "cell_type": "markdown",
     "metadata": {},
     "source": [
      "Training itself is really simple. We pass in the feature vectors and the labels (all of them) and repeatedly update the model paramters, printing them every few iterations."
     ]
    },
    {
     "cell_type": "code",
     "collapsed": false,
     "input": [
      "for i in range(training_steps):\n",
      "    pred, err = lr_train(x_dat,y_dat)\n",
      "    if i % 100 == 0:\n",
      "        print i, \": w,b = \", w.get_value(), b.get_value()\n",
      "    \n",
      "print \"================================\"\n",
      "print \"final model: \"\n",
      "print w.get_value(), b.get_value()"
     ],
     "language": "python",
     "metadata": {},
     "outputs": [
      {
       "output_type": "stream",
       "stream": "stdout",
       "text": [
        "0 : w,b =  [ 0.20176983 -1.04064032] 0.062485391025\n",
        "100 : w,b =  [ 0.21261683 -1.02786323] 0.0620715989927\n",
        "200 : w,b =  [ 0.22320564 -1.01547768] 0.0616174676653\n",
        "300"
       ]
      },
      {
       "output_type": "stream",
       "stream": "stdout",
       "text": [
        " : w,b =  [ 0.23354139 -1.00347068] 0.0611257583814\n",
        "400 : w,b =  [ 0.24362907 -0.99182969] 0.0605991033046\n",
        "500 : w,b =  [ 0.25347359 -0.98054259] 0.060040008981\n",
        "600"
       ]
      },
      {
       "output_type": "stream",
       "stream": "stdout",
       "text": [
        " : w,b =  [ 0.26307976 -0.96959772] 0.0594508600158\n",
        "700 : w,b =  [ 0.27245235 -0.95898382] 0.058833922865\n",
        "800 : w,b =  [ 0.28159604 -0.94869005] 0.0581913497233\n",
        "900"
       ]
      },
      {
       "output_type": "stream",
       "stream": "stdout",
       "text": [
        " : w,b =  [ 0.29051549 -0.938706  ] 0.0575251824857\n",
        "================================\n",
        "final model: \n",
        "[ 0.29912936 -0.92911702] 0.0568443361181\n"
       ]
      }
     ],
     "prompt_number": 188
    },
    {
     "cell_type": "heading",
     "level": 2,
     "metadata": {},
     "source": [
      "Using the Trained Model for Prediction"
     ]
    },
    {
     "cell_type": "markdown",
     "metadata": {},
     "source": [
      "Lastly, we see how our resulting prediction function does by visualizing its predictions on a portion of the plane near our training examples.\n",
      "\n",
      "Notice that we can use the `lr_predict` function just like we used the regular classifier functions from scikit-learn. This should suggest to you that we could use the cross-validation functions from scikit learn to optimize any hyperparameters of a model we build with Theano. "
     ]
    },
    {
     "cell_type": "code",
     "collapsed": false,
     "input": [
      "h = 0.05 # mesh size\n",
      "x_min, x_max = x_dat[:, 0].min() - 1, x_dat[:,0].max() + 1\n",
      "y_min, y_max = x_dat[:, 1].min() - 1, x_dat[:,1].max() + 1\n",
      "xx, yy = np.meshgrid(np.arange(x_min, x_max, h), np.arange(y_min, y_max, h))\n",
      "Z = lr_predict(np.c_[xx.ravel(), yy.ravel()])\n",
      "Z = Z.reshape(xx.shape)\n",
      "figure()\n",
      "pcolormesh(xx,yy, Z, cmap='cool')\n",
      "\n",
      "# this line plots the training data\n",
      "scatter(x_dat[:,0], x_dat[:,1], c=y_dat, cmap='cool')"
     ],
     "language": "python",
     "metadata": {},
     "outputs": [
      {
       "metadata": {},
       "output_type": "pyout",
       "prompt_number": 185,
       "text": [
        "<matplotlib.collections.PathCollection at 0x109b0fdd0>"
       ]
      },
      {
       "metadata": {},
       "output_type": "display_data",
       "png": "[encoded data removed]",
       "text": [
        "<matplotlib.figure.Figure at 0x109a84390>"
       ]
      }
     ],
     "prompt_number": 185
    }
   ],
   "metadata": {}
  }
 ]
}