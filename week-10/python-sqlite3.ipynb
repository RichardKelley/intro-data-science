{
 "metadata": {
  "name": "",
  "signature": "sha256:a74cabca907b9e8624d4fa8d4ae71f6f1369015a0e77dccba8f4ee7cd8d28230"
 },
 "nbformat": 3,
 "nbformat_minor": 0,
 "worksheets": [
  {
   "cells": [
    {
     "cell_type": "code",
     "collapsed": false,
     "input": [
      "import sqlite3"
     ],
     "language": "python",
     "metadata": {},
     "outputs": [],
     "prompt_number": 2
    },
    {
     "cell_type": "code",
     "collapsed": false,
     "input": [
      "c = sqlite3.connect('foo.db')"
     ],
     "language": "python",
     "metadata": {},
     "outputs": [],
     "prompt_number": 4
    },
    {
     "cell_type": "code",
     "collapsed": false,
     "input": [
      "for res in c.execute('select count(*) from passengers;'):\n",
      "    print res"
     ],
     "language": "python",
     "metadata": {},
     "outputs": [
      {
       "output_type": "stream",
       "stream": "stdout",
       "text": [
        "(891,)\n"
       ]
      }
     ],
     "prompt_number": 6
    },
    {
     "cell_type": "code",
     "collapsed": false,
     "input": [
      "for res in c.execute('select distinct age from passengers order by age;'):\n",
      "    print res"
     ],
     "language": "python",
     "metadata": {},
     "outputs": [
      {
       "output_type": "stream",
       "stream": "stdout",
       "text": [
        "(0.42,)\n",
        "(0.67,)\n",
        "(0.75,)\n",
        "(0.83,)\n",
        "(0.92,)\n",
        "(1.0,)\n",
        "(2.0,)\n",
        "(3.0,)\n",
        "(4.0,)\n",
        "(5.0,)\n",
        "(6.0,)\n",
        "(7.0,)\n",
        "(8.0,)\n",
        "(9.0,)\n",
        "(10.0,)\n",
        "(11.0,)\n",
        "(12.0,)\n",
        "(13.0,)\n",
        "(14.0,)\n",
        "(14.5,)\n",
        "(15.0,)\n",
        "(16.0,)\n",
        "(17.0,)\n",
        "(18.0,)\n",
        "(19.0,)\n",
        "(20.0,)\n",
        "(20.5,)\n",
        "(21.0,)\n",
        "(22.0,)\n",
        "(23.0,)\n",
        "(23.5,)\n",
        "(24.0,)\n",
        "(24.5,)\n",
        "(25.0,)\n",
        "(26.0,)\n",
        "(27.0,)\n",
        "(28.0,)\n",
        "(28.5,)\n",
        "(29.0,)\n",
        "(30.0,)\n",
        "(30.5,)\n",
        "(31.0,)\n",
        "(32.0,)\n",
        "(32.5,)\n",
        "(33.0,)\n",
        "(34.0,)\n",
        "(34.5,)\n",
        "(35.0,)\n",
        "(36.0,)\n",
        "(36.5,)\n",
        "(37.0,)\n",
        "(38.0,)\n",
        "(39.0,)\n",
        "(40.0,)\n",
        "(40.5,)\n",
        "(41.0,)\n",
        "(42.0,)\n",
        "(43.0,)\n",
        "(44.0,)\n",
        "(45.0,)\n",
        "(45.5,)\n",
        "(46.0,)\n",
        "(47.0,)\n",
        "(48.0,)\n",
        "(49.0,)\n",
        "(50.0,)\n",
        "(51.0,)\n",
        "(52.0,)\n",
        "(53.0,)\n",
        "(54.0,)\n",
        "(55.0,)\n",
        "(55.5,)\n",
        "(56.0,)\n",
        "(57.0,)\n",
        "(58.0,)\n",
        "(59.0,)\n",
        "(60.0,)\n",
        "(61.0,)\n",
        "(62.0,)\n",
        "(63.0,)\n",
        "(64.0,)\n",
        "(65.0,)\n",
        "(66.0,)\n",
        "(70.0,)\n",
        "(70.5,)\n",
        "(71.0,)\n",
        "(74.0,)\n",
        "(80.0,)\n",
        "(u'',)\n"
       ]
      }
     ],
     "prompt_number": 7
    },
    {
     "cell_type": "code",
     "collapsed": false,
     "input": [],
     "language": "python",
     "metadata": {},
     "outputs": []
    }
   ],
   "metadata": {}
  }
 ]
}